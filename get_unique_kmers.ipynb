{
 "cells": [
  {
   "cell_type": "code",
   "execution_count": 6,
   "metadata": {},
   "outputs": [],
   "source": [
    "import shelve\n",
    "\n",
    "import matplotlib.pyplot as plt\n",
    "import pandas as pd"
   ]
  },
  {
   "cell_type": "code",
   "execution_count": 7,
   "metadata": {},
   "outputs": [],
   "source": [
    "# User parameters\n",
    "out_base = \"GRCh38-no_ambig.p14\"\n",
    "analysis_checkpoint_file_path = f\"{out_base}-analysis-checkpoints.db\""
   ]
  },
  {
   "cell_type": "markdown",
   "metadata": {},
   "source": [
    "# Run analysis\n",
    "\n",
    "Since generating statistics can be time-consuming, these steps have been consolidated into two separate scripts that can be run outside of this notebook.  If the analysis has not yet been run, the following steps are required.\n",
    "\n",
    "1. Download the human genome and decompress it.\n",
    "\n",
    "```bash\n",
    "wget https://ftp.ncbi.nlm.nih.gov/genomes/all/GCF/000/001/405/GCF_000001405.40_GRCh38.p14/GCF_000001405.40_GRCh38.p14_genomic.fna.gz\n",
    "gzip -d GCF_000001405.40_GRCh38.p14_genomic.fna.gz\n",
    "```\n",
    "\n",
    "2. Build the $k$-mers for the human genome and sort them lexicographically.\n",
    "\n",
    "```bash\n",
    "python3 ./build_kmers.py -i GCF_000001405.40_GRCh38.p14_genomic.fna -o GRCh38.p14-kmers.hdf5\n",
    "```\n",
    "\n",
    "*Approximate run time: 2 hours*\n",
    "\n",
    "3. Load the sorted $k$-mers and calculate the $k$-mer count distribution for a range of $k$ values.\n",
    "\n",
    "```bash\n",
    "python3 ./get_kmer_stats.py -i GRCh38.p14-kmers.hdf5 -o GRCh38.p14-analysis-checkpoints.db\n",
    "```\n",
    "\n",
    "*Approximate run time: 20 hours*"
   ]
  },
  {
   "cell_type": "markdown",
   "metadata": {},
   "source": [
    "## Load analysis results from file"
   ]
  },
  {
   "cell_type": "code",
   "execution_count": 8,
   "metadata": {},
   "outputs": [],
   "source": [
    "with shelve.open(analysis_checkpoint_file_path) as db:\n",
    "    kmer_len_list = db[\"kmer_len_list\"]\n",
    "    \n",
    "    group_hist_list = db[\"group_hist_list\"]\n",
    "    total_kmers_list = db[\"total_kmers_list\"]\n",
    "    run_times_all_list = db[\"run_times_all_list\"]\n",
    "\n",
    "    group_hist_unique_list = db[\"group_hist_unique_list\"]\n",
    "    total_kmers_unique_list = db[\"total_kmers_unique_list\"]\n",
    "    run_times_unique_list = db[\"run_times_unique_list\"]"
   ]
  },
  {
   "cell_type": "markdown",
   "metadata": {},
   "source": [
    "## Plot unique $k$-mers\n",
    "\n",
    "Start by building a dataframe with the information we need"
   ]
  },
  {
   "cell_type": "code",
   "execution_count": 9,
   "metadata": {},
   "outputs": [
    {
     "data": {
      "text/html": [
       "<div>\n",
       "<style scoped>\n",
       "    .dataframe tbody tr th:only-of-type {\n",
       "        vertical-align: middle;\n",
       "    }\n",
       "\n",
       "    .dataframe tbody tr th {\n",
       "        vertical-align: top;\n",
       "    }\n",
       "\n",
       "    .dataframe thead th {\n",
       "        text-align: right;\n",
       "    }\n",
       "</style>\n",
       "<table border=\"1\" class=\"dataframe\">\n",
       "  <thead>\n",
       "    <tr style=\"text-align: right;\">\n",
       "      <th></th>\n",
       "      <th>kmer_len</th>\n",
       "      <th>unique_kmer_count</th>\n",
       "      <th>total_kmer_count</th>\n",
       "      <th>frac_unique</th>\n",
       "    </tr>\n",
       "  </thead>\n",
       "  <tbody>\n",
       "    <tr>\n",
       "      <th>0</th>\n",
       "      <td>1</td>\n",
       "      <td>0</td>\n",
       "      <td>2937639113</td>\n",
       "      <td>0.0</td>\n",
       "    </tr>\n",
       "    <tr>\n",
       "      <th>1</th>\n",
       "      <td>2</td>\n",
       "      <td>0</td>\n",
       "      <td>2937638136</td>\n",
       "      <td>0.0</td>\n",
       "    </tr>\n",
       "    <tr>\n",
       "      <th>2</th>\n",
       "      <td>3</td>\n",
       "      <td>0</td>\n",
       "      <td>2937637172</td>\n",
       "      <td>0.0</td>\n",
       "    </tr>\n",
       "    <tr>\n",
       "      <th>3</th>\n",
       "      <td>4</td>\n",
       "      <td>0</td>\n",
       "      <td>2937636211</td>\n",
       "      <td>0.0</td>\n",
       "    </tr>\n",
       "    <tr>\n",
       "      <th>4</th>\n",
       "      <td>5</td>\n",
       "      <td>0</td>\n",
       "      <td>2937635259</td>\n",
       "      <td>0.0</td>\n",
       "    </tr>\n",
       "  </tbody>\n",
       "</table>\n",
       "</div>"
      ],
      "text/plain": [
       "   kmer_len  unique_kmer_count  total_kmer_count  frac_unique\n",
       "0         1                  0        2937639113          0.0\n",
       "1         2                  0        2937638136          0.0\n",
       "2         3                  0        2937637172          0.0\n",
       "3         4                  0        2937636211          0.0\n",
       "4         5                  0        2937635259          0.0"
      ]
     },
     "metadata": {},
     "output_type": "display_data"
    },
    {
     "data": {
      "text/html": [
       "<div>\n",
       "<style scoped>\n",
       "    .dataframe tbody tr th:only-of-type {\n",
       "        vertical-align: middle;\n",
       "    }\n",
       "\n",
       "    .dataframe tbody tr th {\n",
       "        vertical-align: top;\n",
       "    }\n",
       "\n",
       "    .dataframe thead th {\n",
       "        text-align: right;\n",
       "    }\n",
       "</style>\n",
       "<table border=\"1\" class=\"dataframe\">\n",
       "  <thead>\n",
       "    <tr style=\"text-align: right;\">\n",
       "      <th></th>\n",
       "      <th>kmer_len</th>\n",
       "      <th>unique_kmer_count</th>\n",
       "      <th>total_kmer_count</th>\n",
       "      <th>frac_unique</th>\n",
       "    </tr>\n",
       "  </thead>\n",
       "  <tbody>\n",
       "    <tr>\n",
       "      <th>48</th>\n",
       "      <td>300</td>\n",
       "      <td>2870403389</td>\n",
       "      <td>2937378904</td>\n",
       "      <td>0.977199</td>\n",
       "    </tr>\n",
       "    <tr>\n",
       "      <th>49</th>\n",
       "      <td>350</td>\n",
       "      <td>2876055677</td>\n",
       "      <td>2937337194</td>\n",
       "      <td>0.979137</td>\n",
       "    </tr>\n",
       "    <tr>\n",
       "      <th>50</th>\n",
       "      <td>400</td>\n",
       "      <td>2880832457</td>\n",
       "      <td>2937296056</td>\n",
       "      <td>0.980777</td>\n",
       "    </tr>\n",
       "    <tr>\n",
       "      <th>51</th>\n",
       "      <td>450</td>\n",
       "      <td>2884916721</td>\n",
       "      <td>2937255120</td>\n",
       "      <td>0.982181</td>\n",
       "    </tr>\n",
       "    <tr>\n",
       "      <th>52</th>\n",
       "      <td>500</td>\n",
       "      <td>2888441365</td>\n",
       "      <td>2937214270</td>\n",
       "      <td>0.983395</td>\n",
       "    </tr>\n",
       "  </tbody>\n",
       "</table>\n",
       "</div>"
      ],
      "text/plain": [
       "    kmer_len  unique_kmer_count  total_kmer_count  frac_unique\n",
       "48       300         2870403389        2937378904     0.977199\n",
       "49       350         2876055677        2937337194     0.979137\n",
       "50       400         2880832457        2937296056     0.980777\n",
       "51       450         2884916721        2937255120     0.982181\n",
       "52       500         2888441365        2937214270     0.983395"
      ]
     },
     "metadata": {},
     "output_type": "display_data"
    }
   ],
   "source": [
    "# Get the number unique k-mers for each value of k\n",
    "unique_kmer_counts = []\n",
    "for group_counts_by_group_size in group_hist_unique_list:\n",
    "    # verify that the only group size is 1 for group_hist_unique_list.  This means that\n",
    "    # group_count == kmer_count\n",
    "    assert group_counts_by_group_size[1] == group_counts_by_group_size.sum()\n",
    "    unique_kmer_counts.append(group_counts_by_group_size[1])\n",
    "\n",
    "# build dataframe\n",
    "data = []\n",
    "generator = zip(kmer_len_list, unique_kmer_counts, total_kmers_list)\n",
    "for kmer_len, unique_kmer_count, total_kmer_count in generator:\n",
    "    data.append([kmer_len, unique_kmer_count, total_kmer_count])\n",
    "df = pd.DataFrame(data, columns=[\"kmer_len\", \"unique_kmer_count\", \"total_kmer_count\"])\n",
    "\n",
    "# add a column with the fraction of unique k-mers\n",
    "df[\"frac_unique\"] = df[\"unique_kmer_count\"] / df[\"total_kmer_count\"]\n",
    "\n",
    "display(df.head())\n",
    "display(df.tail())"
   ]
  },
  {
   "cell_type": "markdown",
   "metadata": {},
   "source": [
    "Plot the fraction of all $k$-mers that appear exactly once in the genome as a function of $k$"
   ]
  },
  {
   "cell_type": "code",
   "execution_count": 10,
   "metadata": {},
   "outputs": [
    {
     "data": {
      "image/png": "[encoded data removed]",
      "text/plain": [
       "<Figure size 640x480 with 1 Axes>"
      ]
     },
     "metadata": {},
     "output_type": "display_data"
    }
   ],
   "source": [
    "# plot fraction of k-mers that are unique as a function of k\n",
    "fig, ax = plt.subplots()\n",
    "\n",
    "ax.plot(df[\"kmer_len\"], df[\"frac_unique\"], \"-o\", markersize=3)\n",
    "ax.set_xlim(0, 100)\n",
    "ax.set_ylim(-0.03, 1.0)\n",
    "ax.set_title(\"Fraction of k-mers that are unique\", fontsize=20)\n",
    "ax.set_xlabel(\"k\", fontsize=18)\n",
    "ax.set_ylabel(\"fraction unique\", fontsize=18)\n",
    "\n",
    "fig.savefig(f\"{out_base}-frac-unique-kmers.png\", dpi=300)"
   ]
  }
 ],
 "metadata": {
  "kernelspec": {
   "display_name": "genome-kmers-applications",
   "language": "python",
   "name": "python3"
  },
  "language_info": {
   "codemirror_mode": {
    "name": "ipython",
    "version": 3
   },
   "file_extension": ".py",
   "mimetype": "text/x-python",
   "name": "python",
   "nbconvert_exporter": "python",
   "pygments_lexer": "ipython3",
   "version": "3.10.12"
  }
 },
 "nbformat": 4,
 "nbformat_minor": 2
}
